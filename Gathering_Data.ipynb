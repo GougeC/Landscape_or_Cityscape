{
 "cells": [
  {
   "cell_type": "code",
   "execution_count": 2,
   "metadata": {
    "collapsed": true
   },
   "outputs": [],
   "source": [
    "import praw\n",
    "import requests\n",
    "import os\n",
    "from PIL import Image\n",
    "import io\n",
    "import time\n",
    "import datetime\n",
    "\n",
    "def get_and_save_sub_images(subreddit, date, min_votes):\n",
    "    '''saves images from the given subreddit since date (d/m/y) with >= min_votes in a folder named subreddit_[day]_month'''\n",
    "    \n",
    "    urls = get_urls(subreddit, date, min_votes)\n",
    "    today = datetime.datetime.today()\n",
    "    month,day = today.month, today.day\n",
    "    folder = \"images/{}_{}_{}\".format(subreddit, month, day)\n",
    "    os.mkdir(folder)\n",
    "    folder+='/'\n",
    "    print(\"saving {} images to {} \".format(len(urls),folder))\n",
    "    for ind, url in enumerate(urls):\n",
    "        try:\n",
    "            response = requests.get(url)\n",
    "            if response.content:\n",
    "                img = Image.open(io.BytesIO(response.content))\n",
    "                name = \"image{}{}\".format(ind,url[-4:])\n",
    "                img.save(folder+name)\n",
    "        except:\n",
    "            continue\n",
    "    print(\"done with /r/{}\".format(subreddit))\n",
    "\n",
    "def get_urls(subreddit,date,min_votes):\n",
    "    ''' returns a list of urls of images posted on the sub since date that have >= min_votes upvotes'''\n",
    "    current_time = time.time()\n",
    "    start_time = time.mktime(datetime.datetime.strptime(date, \"%d/%m/%Y\").timetuple())\n",
    "    urls = []\n",
    "    reddit = praw.Reddit(client_secret = os.environ['REDDIT_API_SECRET'],\n",
    "                     client_id = os.environ['REDDIT_API_ID'] ,\n",
    "                     user_agent = 'gathering data by /u/GougeC')\n",
    "    \n",
    "    for post in reddit.subreddit(subreddit).submissions(start_time,current_time):\n",
    "        if post.ups >= min_votes:\n",
    "            url = post.url\n",
    "            if url[-4:] in ('.png' ,'.jpg'):\n",
    "                urls.append(url)\n",
    "    return urls"
   ]
  },
  {
   "cell_type": "code",
   "execution_count": 4,
   "metadata": {},
   "outputs": [
    {
     "name": "stdout",
     "output_type": "stream",
     "text": [
      "saving 4624 images to images/earthporn_3_7/ \n"
     ]
    },
    {
     "name": "stderr",
     "output_type": "stream",
     "text": [
      "/home/connor/anaconda3/lib/python3.6/site-packages/PIL/Image.py:2496: DecompressionBombWarning: Image size (93153600 pixels) exceeds limit of 89478485 pixels, could be decompression bomb DOS attack.\n",
      "  DecompressionBombWarning)\n",
      "/home/connor/anaconda3/lib/python3.6/site-packages/PIL/Image.py:2496: DecompressionBombWarning: Image size (98130452 pixels) exceeds limit of 89478485 pixels, could be decompression bomb DOS attack.\n",
      "  DecompressionBombWarning)\n"
     ]
    },
    {
     "name": "stdout",
     "output_type": "stream",
     "text": [
      "done with /r/earthporn\n"
     ]
    }
   ],
   "source": [
    "get_and_save_sub_images('earthporn','01/01/2017',200)"
   ]
  },
  {
   "cell_type": "code",
   "execution_count": 5,
   "metadata": {},
   "outputs": [
    {
     "name": "stdout",
     "output_type": "stream",
     "text": [
      "saving 1401 images to images/cityporn_3_7/ \n",
      "done with /r/cityporn\n"
     ]
    }
   ],
   "source": [
    "get_and_save_sub_images('cityporn','01/01/2017',100)"
   ]
  },
  {
   "cell_type": "code",
   "execution_count": null,
   "metadata": {
    "collapsed": true
   },
   "outputs": [],
   "source": []
  }
 ],
 "metadata": {
  "kernelspec": {
   "display_name": "Python 3",
   "language": "python",
   "name": "python3"
  },
  "language_info": {
   "codemirror_mode": {
    "name": "ipython",
    "version": 3
   },
   "file_extension": ".py",
   "mimetype": "text/x-python",
   "name": "python",
   "nbconvert_exporter": "python",
   "pygments_lexer": "ipython3",
   "version": "3.6.3"
  }
 },
 "nbformat": 4,
 "nbformat_minor": 2
}
