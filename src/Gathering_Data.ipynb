{
 "cells": [
  {
   "cell_type": "code",
   "execution_count": 2,
   "metadata": {
    "collapsed": true
   },
   "outputs": [],
   "source": [
    "import praw\n",
    "import requests\n",
    "import os\n",
    "from PIL import Image\n",
    "import io\n",
    "import time\n",
    "import datetime\n",
    "import numpy as np"
   ]
  },
  {
   "cell_type": "code",
   "execution_count": 3,
   "metadata": {
    "collapsed": true
   },
   "outputs": [],
   "source": [
    "def get_and_save_sub_images(subreddit, date, min_votes):\n",
    "    '''saves images from the given subreddit since date (d/m/y) with >= min_votes in a folder named subreddit_[day]_month'''\n",
    "    \n",
    "    urls = get_urls(subreddit, date, min_votes)\n",
    "    today = datetime.datetime.today()\n",
    "    month,day = today.month, today.day\n",
    "    for fol in ['train','test','validation']:\n",
    "        folder = \"images/{}/{}_{}_{}\".format(fol,subreddit, month, day)\n",
    "        os.mkdir(folder)\n",
    "    folder+='/'\n",
    "    print(\"saving {} images to {} \".format(len(urls),folder))\n",
    "    i = 0\n",
    "    for ind, url in enumerate(urls):\n",
    "        \n",
    "        if i%10 == 9:\n",
    "            fol = 'test'\n",
    "        elif i%10 == 8:\n",
    "            fol = 'validation'\n",
    "        else:\n",
    "            fol = 'train'\n",
    "            \n",
    "        folder = \"images/{}/{}_{}_{}/\".format(fol,subreddit, month, day)\n",
    "        try:\n",
    "            response = requests.get(url)\n",
    "            if response.content:\n",
    "                img = Image.open(io.BytesIO(response.content))\n",
    "                name = \"image{}{}\".format(ind,url[-4:])\n",
    "                img.save(folder+name)\n",
    "                i+=1\n",
    "        except:\n",
    "            continue\n",
    "        if i%100 == 0:\n",
    "            print(\"saved {} images from r/{}\".format(i,subreddit))\n",
    "    print(\"done with /r/{}\".format(subreddit))\n",
    "\n",
    "def get_urls(subreddit,date,min_votes):\n",
    "    ''' returns a list of urls of images posted on the sub since date that have >= min_votes upvotes'''\n",
    "    current_time = time.time()\n",
    "    start_time = time.mktime(datetime.datetime.strptime(date, \"%d/%m/%Y\").timetuple())\n",
    "    urls = []\n",
    "    reddit = praw.Reddit(client_secret = os.environ['REDDIT_API_SECRET'],\n",
    "                     client_id = os.environ['REDDIT_API_ID'] ,\n",
    "                     user_agent = 'gathering data by /u/GougeC')\n",
    "    i = 0\n",
    "    for post in reddit.subreddit(subreddit).submissions(start_time,current_time):\n",
    "        if post.ups >= min_votes:\n",
    "            url = post.url\n",
    "            if url[-4:] in ('.png' ,'.jpg'):\n",
    "                urls.append(url)\n",
    "                i+=1\n",
    "                if i%100 ==0:\n",
    "                    print(\"got {} urls\".format(i))\n",
    "    return urls"
   ]
  },
  {
   "cell_type": "code",
   "execution_count": null,
   "metadata": {
    "scrolled": true
   },
   "outputs": [
    {
     "name": "stdout",
     "output_type": "stream",
     "text": [
      "got 100 urls\n",
      "got 200 urls\n",
      "got 300 urls\n",
      "got 400 urls\n",
      "got 500 urls\n",
      "got 600 urls\n",
      "got 700 urls\n",
      "got 800 urls\n",
      "got 900 urls\n",
      "got 1000 urls\n",
      "got 1100 urls\n",
      "got 1200 urls\n",
      "got 1300 urls\n",
      "got 1400 urls\n",
      "got 1500 urls\n",
      "got 1600 urls\n",
      "got 1700 urls\n",
      "got 1800 urls\n",
      "got 1900 urls\n",
      "got 2000 urls\n",
      "got 2100 urls\n",
      "got 2200 urls\n",
      "got 2300 urls\n",
      "got 2400 urls\n",
      "got 2500 urls\n"
     ]
    }
   ],
   "source": [
    "os.mkdir('images')\n",
    "for fol in ['train','test','validation']:\n",
    "    os.mkdir('images/{}'.format(fol))\n",
    "\n",
    "get_and_save_sub_images('earthporn','01/01/2017',200)"
   ]
  },
  {
   "cell_type": "code",
   "execution_count": null,
   "metadata": {
    "collapsed": true
   },
   "outputs": [],
   "source": [
    "get_and_save_sub_images('cityporn','01/01/2017',100)"
   ]
  },
  {
   "cell_type": "code",
   "execution_count": 4,
   "metadata": {
    "scrolled": true
   },
   "outputs": [
    {
     "name": "stdout",
     "output_type": "stream",
     "text": [
      "(4000, 6000, 3)\n"
     ]
    }
   ],
   "source": [
    "from scipy.misc import imread\n",
    "print (imread('images/train/earthporn_3_10/image4581.jpg').shape)"
   ]
  },
  {
   "cell_type": "code",
   "execution_count": 9,
   "metadata": {},
   "outputs": [
    {
     "data": {
      "text/plain": [
       "6060"
      ]
     },
     "execution_count": 9,
     "metadata": {},
     "output_type": "execute_result"
    }
   ],
   "source": [
    "month,day = 3, 10\n",
    "paths = []\n",
    "for fol in ['train', 'test', 'validation']:\n",
    "    for subreddit in ['earthporn', 'cityporn']:\n",
    "        folder = \"images/{}/{}_{}_{}\".format(fol,subreddit, month, day)\n",
    "        imgs = os.listdir(folder)\n",
    "        imgs = [folder+'/'+i for i in imgs]\n",
    "        paths.extend(imgs)\n",
    "        \n",
    "len(paths)"
   ]
  },
  {
   "cell_type": "code",
   "execution_count": 10,
   "metadata": {
    "scrolled": true
   },
   "outputs": [],
   "source": [
    "broken = []\n",
    "for f in paths:\n",
    "    try:\n",
    "        imread(f)\n",
    "    except:\n",
    "        broken.append(path)\n",
    "        print(\"broken file\", f)"
   ]
  },
  {
   "cell_type": "code",
   "execution_count": 8,
   "metadata": {
    "collapsed": true
   },
   "outputs": [],
   "source": [
    "for f in broken:\n",
    "    os.remove(f)"
   ]
  },
  {
   "cell_type": "code",
   "execution_count": 7,
   "metadata": {},
   "outputs": [
    {
     "data": {
      "text/plain": [
       "10"
      ]
     },
     "execution_count": 7,
     "metadata": {},
     "output_type": "execute_result"
    }
   ],
   "source": [
    "len(broken)"
   ]
  },
  {
   "cell_type": "code",
   "execution_count": null,
   "metadata": {
    "collapsed": true
   },
   "outputs": [],
   "source": []
  }
 ],
 "metadata": {
  "kernelspec": {
   "display_name": "Python 3",
   "language": "python",
   "name": "python3"
  },
  "language_info": {
   "codemirror_mode": {
    "name": "ipython",
    "version": 3
   },
   "file_extension": ".py",
   "mimetype": "text/x-python",
   "name": "python",
   "nbconvert_exporter": "python",
   "pygments_lexer": "ipython3",
   "version": "3.6.3"
  }
 },
 "nbformat": 4,
 "nbformat_minor": 2
}
